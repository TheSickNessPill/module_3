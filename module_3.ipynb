{
 "cells": [
  {
   "cell_type": "markdown",
   "metadata": {},
   "source": [
    "# Загрузка Pandas и очистка данных"
   ]
  },
  {
   "cell_type": "code",
   "execution_count": 1,
   "metadata": {},
   "outputs": [],
   "source": [
    "import pandas as pd\n",
    "import re\n",
    "from collections import Counter\n",
    "from datetime import datetime, timedelta\n",
    "import matplotlib.pyplot as plt\n",
    "from itertools import combinations\n",
    "from scipy.stats import ttest_ind\n",
    "import seaborn as sn\n",
    "import numpy as np\n",
    "RANDOM_SEED = 42\n",
    "pd.set_option('display.max_columns', 150)"
   ]
  },
  {
   "cell_type": "markdown",
   "metadata": {},
   "source": [
    "Загружаем и объединяем датасеты."
   ]
  },
  {
   "cell_type": "code",
   "execution_count": 2,
   "metadata": {},
   "outputs": [],
   "source": [
    "main_task = pd.read_csv(r'B:\\SKILL_FACTORY\\main_task.csv')\n",
    "kaggle_task = pd.read_csv(r'B:SKILL_FACTORY\\kaggle_task.csv')\n",
    "df = main_task.append(kaggle_task, sort=False).reset_index(drop=True)"
   ]
  },
  {
   "cell_type": "markdown",
   "metadata": {},
   "source": [
    "Restaurant_id — идентификационный номер ресторана / сети ресторанов;\n",
    "\n",
    "City — город, в котором находится ресторан;\n",
    "\n",
    "Cuisine Style — кухня или кухни, к которым можно отнести блюда, предлагаемые в ресторане;\n",
    "\n",
    "Ranking — место, которое занимает данный ресторан среди всех ресторанов своего города;\n",
    "\n",
    "Rating — рейтинг ресторана по данным TripAdvisor (именно это значение должна будет предсказывать модель);\n",
    "\n",
    "Price Range — диапазон цен в ресторане;\n",
    "\n",
    "Number of Reviews — количество отзывов о ресторане;\n",
    "\n",
    "Reviews — данные о двух отзывах, которые отображаются на сайте ресторана;\n",
    "\n",
    "URL_TA — URL страницы ресторана на TripAdvosor;\n",
    "\n",
    "ID_TA — идентификатор ресторана в базе данных TripAdvisor."
   ]
  },
  {
   "cell_type": "code",
   "execution_count": 3,
   "metadata": {},
   "outputs": [
    {
     "data": {
      "text/html": [
       "<div>\n",
       "<style scoped>\n",
       "    .dataframe tbody tr th:only-of-type {\n",
       "        vertical-align: middle;\n",
       "    }\n",
       "\n",
       "    .dataframe tbody tr th {\n",
       "        vertical-align: top;\n",
       "    }\n",
       "\n",
       "    .dataframe thead th {\n",
       "        text-align: right;\n",
       "    }\n",
       "</style>\n",
       "<table border=\"1\" class=\"dataframe\">\n",
       "  <thead>\n",
       "    <tr style=\"text-align: right;\">\n",
       "      <th></th>\n",
       "      <th>Restaurant_id</th>\n",
       "      <th>City</th>\n",
       "      <th>Cuisine Style</th>\n",
       "      <th>Ranking</th>\n",
       "      <th>Rating</th>\n",
       "      <th>Price Range</th>\n",
       "      <th>Number of Reviews</th>\n",
       "      <th>Reviews</th>\n",
       "      <th>URL_TA</th>\n",
       "      <th>ID_TA</th>\n",
       "    </tr>\n",
       "  </thead>\n",
       "  <tbody>\n",
       "    <tr>\n",
       "      <th>0</th>\n",
       "      <td>id_5569</td>\n",
       "      <td>Paris</td>\n",
       "      <td>['European', 'French', 'International']</td>\n",
       "      <td>5570.0</td>\n",
       "      <td>3.5</td>\n",
       "      <td>$$ - $$$</td>\n",
       "      <td>194.0</td>\n",
       "      <td>[['Good food at your doorstep', 'A good hotel ...</td>\n",
       "      <td>/Restaurant_Review-g187147-d1912643-Reviews-R_...</td>\n",
       "      <td>d1912643</td>\n",
       "    </tr>\n",
       "    <tr>\n",
       "      <th>1</th>\n",
       "      <td>id_1535</td>\n",
       "      <td>Stockholm</td>\n",
       "      <td>NaN</td>\n",
       "      <td>1537.0</td>\n",
       "      <td>4.0</td>\n",
       "      <td>NaN</td>\n",
       "      <td>10.0</td>\n",
       "      <td>[['Unique cuisine', 'Delicious Nepalese food']...</td>\n",
       "      <td>/Restaurant_Review-g189852-d7992032-Reviews-Bu...</td>\n",
       "      <td>d7992032</td>\n",
       "    </tr>\n",
       "    <tr>\n",
       "      <th>2</th>\n",
       "      <td>id_352</td>\n",
       "      <td>London</td>\n",
       "      <td>['Japanese', 'Sushi', 'Asian', 'Grill', 'Veget...</td>\n",
       "      <td>353.0</td>\n",
       "      <td>4.5</td>\n",
       "      <td>$$$$</td>\n",
       "      <td>688.0</td>\n",
       "      <td>[['Catch up with friends', 'Not exceptional'],...</td>\n",
       "      <td>/Restaurant_Review-g186338-d8632781-Reviews-RO...</td>\n",
       "      <td>d8632781</td>\n",
       "    </tr>\n",
       "    <tr>\n",
       "      <th>3</th>\n",
       "      <td>id_3456</td>\n",
       "      <td>Berlin</td>\n",
       "      <td>NaN</td>\n",
       "      <td>3458.0</td>\n",
       "      <td>5.0</td>\n",
       "      <td>NaN</td>\n",
       "      <td>3.0</td>\n",
       "      <td>[[], []]</td>\n",
       "      <td>/Restaurant_Review-g187323-d1358776-Reviews-Es...</td>\n",
       "      <td>d1358776</td>\n",
       "    </tr>\n",
       "    <tr>\n",
       "      <th>4</th>\n",
       "      <td>id_615</td>\n",
       "      <td>Munich</td>\n",
       "      <td>['German', 'Central European', 'Vegetarian Fri...</td>\n",
       "      <td>621.0</td>\n",
       "      <td>4.0</td>\n",
       "      <td>$$ - $$$</td>\n",
       "      <td>84.0</td>\n",
       "      <td>[['Best place to try a Bavarian food', 'Nice b...</td>\n",
       "      <td>/Restaurant_Review-g187309-d6864963-Reviews-Au...</td>\n",
       "      <td>d6864963</td>\n",
       "    </tr>\n",
       "    <tr>\n",
       "      <th>...</th>\n",
       "      <td>...</td>\n",
       "      <td>...</td>\n",
       "      <td>...</td>\n",
       "      <td>...</td>\n",
       "      <td>...</td>\n",
       "      <td>...</td>\n",
       "      <td>...</td>\n",
       "      <td>...</td>\n",
       "      <td>...</td>\n",
       "      <td>...</td>\n",
       "    </tr>\n",
       "    <tr>\n",
       "      <th>49995</th>\n",
       "      <td>id_9995</td>\n",
       "      <td>London</td>\n",
       "      <td>['Caribbean', 'Barbecue', 'Jamaican', 'Vegetar...</td>\n",
       "      <td>4367.0</td>\n",
       "      <td>NaN</td>\n",
       "      <td>$</td>\n",
       "      <td>28.0</td>\n",
       "      <td>[['By far best Chicken burgers and wings in L....</td>\n",
       "      <td>/Restaurant_Review-g186338-d11916827-Reviews-C...</td>\n",
       "      <td>d11916827</td>\n",
       "    </tr>\n",
       "    <tr>\n",
       "      <th>49996</th>\n",
       "      <td>id_9996</td>\n",
       "      <td>Lisbon</td>\n",
       "      <td>['Indian', 'Asian', 'Nepali', 'Bangladeshi']</td>\n",
       "      <td>2612.0</td>\n",
       "      <td>NaN</td>\n",
       "      <td>$$ - $$$</td>\n",
       "      <td>2.0</td>\n",
       "      <td>[['Ok indian food'], ['11/25/2017']]</td>\n",
       "      <td>/Restaurant_Review-g189158-d12701633-Reviews-C...</td>\n",
       "      <td>d12701633</td>\n",
       "    </tr>\n",
       "    <tr>\n",
       "      <th>49997</th>\n",
       "      <td>id_9997</td>\n",
       "      <td>Milan</td>\n",
       "      <td>NaN</td>\n",
       "      <td>5562.0</td>\n",
       "      <td>NaN</td>\n",
       "      <td>NaN</td>\n",
       "      <td>2.0</td>\n",
       "      <td>[[], []]</td>\n",
       "      <td>/Restaurant_Review-g187849-d13198194-Reviews-Q...</td>\n",
       "      <td>d13198194</td>\n",
       "    </tr>\n",
       "    <tr>\n",
       "      <th>49998</th>\n",
       "      <td>id_9998</td>\n",
       "      <td>Milan</td>\n",
       "      <td>['Italian']</td>\n",
       "      <td>4010.0</td>\n",
       "      <td>NaN</td>\n",
       "      <td>NaN</td>\n",
       "      <td>2.0</td>\n",
       "      <td>[[], []]</td>\n",
       "      <td>/Restaurant_Review-g187849-d3862815-Reviews-La...</td>\n",
       "      <td>d3862815</td>\n",
       "    </tr>\n",
       "    <tr>\n",
       "      <th>49999</th>\n",
       "      <td>id_9999</td>\n",
       "      <td>Paris</td>\n",
       "      <td>NaN</td>\n",
       "      <td>6791.0</td>\n",
       "      <td>NaN</td>\n",
       "      <td>NaN</td>\n",
       "      <td>14.0</td>\n",
       "      <td>[['Ethiopian Dining in Pleasant Space'], ['07/...</td>\n",
       "      <td>/Restaurant_Review-g187147-d10342814-Reviews-L...</td>\n",
       "      <td>d10342814</td>\n",
       "    </tr>\n",
       "  </tbody>\n",
       "</table>\n",
       "<p>50000 rows × 10 columns</p>\n",
       "</div>"
      ],
      "text/plain": [
       "      Restaurant_id       City  \\\n",
       "0           id_5569      Paris   \n",
       "1           id_1535  Stockholm   \n",
       "2            id_352     London   \n",
       "3           id_3456     Berlin   \n",
       "4            id_615     Munich   \n",
       "...             ...        ...   \n",
       "49995       id_9995     London   \n",
       "49996       id_9996     Lisbon   \n",
       "49997       id_9997      Milan   \n",
       "49998       id_9998      Milan   \n",
       "49999       id_9999      Paris   \n",
       "\n",
       "                                           Cuisine Style  Ranking  Rating  \\\n",
       "0                ['European', 'French', 'International']   5570.0     3.5   \n",
       "1                                                    NaN   1537.0     4.0   \n",
       "2      ['Japanese', 'Sushi', 'Asian', 'Grill', 'Veget...    353.0     4.5   \n",
       "3                                                    NaN   3458.0     5.0   \n",
       "4      ['German', 'Central European', 'Vegetarian Fri...    621.0     4.0   \n",
       "...                                                  ...      ...     ...   \n",
       "49995  ['Caribbean', 'Barbecue', 'Jamaican', 'Vegetar...   4367.0     NaN   \n",
       "49996       ['Indian', 'Asian', 'Nepali', 'Bangladeshi']   2612.0     NaN   \n",
       "49997                                                NaN   5562.0     NaN   \n",
       "49998                                        ['Italian']   4010.0     NaN   \n",
       "49999                                                NaN   6791.0     NaN   \n",
       "\n",
       "      Price Range  Number of Reviews  \\\n",
       "0        $$ - $$$              194.0   \n",
       "1             NaN               10.0   \n",
       "2            $$$$              688.0   \n",
       "3             NaN                3.0   \n",
       "4        $$ - $$$               84.0   \n",
       "...           ...                ...   \n",
       "49995           $               28.0   \n",
       "49996    $$ - $$$                2.0   \n",
       "49997         NaN                2.0   \n",
       "49998         NaN                2.0   \n",
       "49999         NaN               14.0   \n",
       "\n",
       "                                                 Reviews  \\\n",
       "0      [['Good food at your doorstep', 'A good hotel ...   \n",
       "1      [['Unique cuisine', 'Delicious Nepalese food']...   \n",
       "2      [['Catch up with friends', 'Not exceptional'],...   \n",
       "3                                               [[], []]   \n",
       "4      [['Best place to try a Bavarian food', 'Nice b...   \n",
       "...                                                  ...   \n",
       "49995  [['By far best Chicken burgers and wings in L....   \n",
       "49996               [['Ok indian food'], ['11/25/2017']]   \n",
       "49997                                           [[], []]   \n",
       "49998                                           [[], []]   \n",
       "49999  [['Ethiopian Dining in Pleasant Space'], ['07/...   \n",
       "\n",
       "                                                  URL_TA      ID_TA  \n",
       "0      /Restaurant_Review-g187147-d1912643-Reviews-R_...   d1912643  \n",
       "1      /Restaurant_Review-g189852-d7992032-Reviews-Bu...   d7992032  \n",
       "2      /Restaurant_Review-g186338-d8632781-Reviews-RO...   d8632781  \n",
       "3      /Restaurant_Review-g187323-d1358776-Reviews-Es...   d1358776  \n",
       "4      /Restaurant_Review-g187309-d6864963-Reviews-Au...   d6864963  \n",
       "...                                                  ...        ...  \n",
       "49995  /Restaurant_Review-g186338-d11916827-Reviews-C...  d11916827  \n",
       "49996  /Restaurant_Review-g189158-d12701633-Reviews-C...  d12701633  \n",
       "49997  /Restaurant_Review-g187849-d13198194-Reviews-Q...  d13198194  \n",
       "49998  /Restaurant_Review-g187849-d3862815-Reviews-La...   d3862815  \n",
       "49999  /Restaurant_Review-g187147-d10342814-Reviews-L...  d10342814  \n",
       "\n",
       "[50000 rows x 10 columns]"
      ]
     },
     "metadata": {},
     "output_type": "display_data"
    }
   ],
   "source": [
    "display(df)"
   ]
  },
  {
   "cell_type": "code",
   "execution_count": 4,
   "metadata": {
    "scrolled": true
   },
   "outputs": [
    {
     "name": "stdout",
     "output_type": "stream",
     "text": [
      "<class 'pandas.core.frame.DataFrame'>\n",
      "RangeIndex: 50000 entries, 0 to 49999\n",
      "Data columns (total 10 columns):\n",
      " #   Column             Non-Null Count  Dtype  \n",
      "---  ------             --------------  -----  \n",
      " 0   Restaurant_id      50000 non-null  object \n",
      " 1   City               50000 non-null  object \n",
      " 2   Cuisine Style      38410 non-null  object \n",
      " 3   Ranking            50000 non-null  float64\n",
      " 4   Rating             40000 non-null  float64\n",
      " 5   Price Range        32639 non-null  object \n",
      " 6   Number of Reviews  46800 non-null  float64\n",
      " 7   Reviews            49998 non-null  object \n",
      " 8   URL_TA             50000 non-null  object \n",
      " 9   ID_TA              50000 non-null  object \n",
      "dtypes: float64(3), object(7)\n",
      "memory usage: 3.8+ MB\n"
     ]
    }
   ],
   "source": [
    "df.info()"
   ]
  },
  {
   "cell_type": "markdown",
   "metadata": {},
   "source": [
    "# В данном датасете имеется:\n",
    "\n",
    "3 числовых признака\n",
    "\n",
    "7 строковых признака\n",
    "\n",
    "Датасет состоит из 50000 строк, в датасете 10 колонок."
   ]
  },
  {
   "cell_type": "code",
   "execution_count": 5,
   "metadata": {},
   "outputs": [
    {
     "data": {
      "text/plain": [
       "Restaurant_id            0\n",
       "City                     0\n",
       "Cuisine Style        11590\n",
       "Ranking                  0\n",
       "Rating               10000\n",
       "Price Range          17361\n",
       "Number of Reviews     3200\n",
       "Reviews                  2\n",
       "URL_TA                   0\n",
       "ID_TA                    0\n",
       "dtype: int64"
      ]
     },
     "execution_count": 5,
     "metadata": {},
     "output_type": "execute_result"
    }
   ],
   "source": [
    "df.isna().sum()"
   ]
  },
  {
   "cell_type": "code",
   "execution_count": 6,
   "metadata": {},
   "outputs": [
    {
     "data": {
      "text/plain": [
       "<matplotlib.axes._subplots.AxesSubplot at 0x21dd3319ac8>"
      ]
     },
     "execution_count": 6,
     "metadata": {},
     "output_type": "execute_result"
    },
    {
     "data": {
      "image/png": "[encoded data removed]",
      "text/plain": [
       "<Figure size 432x288 with 1 Axes>"
      ]
     },
     "metadata": {
      "needs_background": "light"
     },
     "output_type": "display_data"
    }
   ],
   "source": [
    "df['Ranking'].hist()"
   ]
  },
  {
   "cell_type": "markdown",
   "metadata": {},
   "source": [
    "Из гистограммы можно увидеть,что существенная часть ресторанов входит в топ 5000 мест."
   ]
  },
  {
   "cell_type": "code",
   "execution_count": 7,
   "metadata": {},
   "outputs": [
    {
     "data": {
      "text/plain": [
       "<matplotlib.axes._subplots.AxesSubplot at 0x21dd345fa88>"
      ]
     },
     "execution_count": 7,
     "metadata": {},
     "output_type": "execute_result"
    },
    {
     "data": {
      "image/png": "[encoded data removed]",
      "text/plain": [
       "<Figure size 432x288 with 1 Axes>"
      ]
     },
     "metadata": {
      "needs_background": "light"
     },
     "output_type": "display_data"
    }
   ],
   "source": [
    "df['Rating'].hist()"
   ]
  },
  {
   "cell_type": "markdown",
   "metadata": {},
   "source": [
    "Существенная часть ресторанов имеет нормальное растределение от 3 до 5, лишь некоторая от 1 до 2.5."
   ]
  },
  {
   "cell_type": "code",
   "execution_count": 8,
   "metadata": {},
   "outputs": [
    {
     "data": {
      "text/plain": [
       "London       7193\n",
       "Paris        6108\n",
       "Madrid       3813\n",
       "Barcelona    3395\n",
       "Berlin       2705\n",
       "Milan        2694\n",
       "Rome         2589\n",
       "Prague       1816\n",
       "Lisbon       1647\n",
       "Vienna       1443\n",
       "Name: City, dtype: int64"
      ]
     },
     "execution_count": 8,
     "metadata": {},
     "output_type": "execute_result"
    }
   ],
   "source": [
    "df['City'].value_counts().head(10)"
   ]
  },
  {
   "cell_type": "markdown",
   "metadata": {},
   "source": [
    "Из всех стран, представленных в датасете, можно выделить 5 стран, где количество ресторанов больше, чем в других странах \n",
    "\n",
    "[London, Paris, Madrid, Barcelona, Berlin]."
   ]
  },
  {
   "cell_type": "code",
   "execution_count": 9,
   "metadata": {},
   "outputs": [],
   "source": [
    "def price_range(row):\n",
    "    '''Функция по замене символов на более понятные значения'''\n",
    "\n",
    "    if row == '$':\n",
    "        return 1\n",
    "    elif row == '$$ - $$$':\n",
    "        return 2\n",
    "    else:\n",
    "        return 3"
   ]
  },
  {
   "cell_type": "code",
   "execution_count": 10,
   "metadata": {},
   "outputs": [],
   "source": [
    "def row_to_time(row):\n",
    "    '''Функция по приведению строки в единый формат даты и вычисление разницы между датами'''\n",
    "    if row == '[]': return None\n",
    "    if len(row) == 0:return None\n",
    "    if len(row) == 1:\n",
    "        return datetime.now() - pd.to_datetime(row).max()\n",
    "    if len(row) == 2:\n",
    "        return pd.to_datetime(row).max() - pd.to_datetime(row).min()"
   ]
  },
  {
   "cell_type": "code",
   "execution_count": 11,
   "metadata": {},
   "outputs": [],
   "source": [
    "def add_dummies(df, column):\n",
    "    '''Функция по добавлению в датафрейм dummie-переменных'''\n",
    "\n",
    "    dummies = pd.get_dummies(df[column], prefix=column)\n",
    "    return df.join(dummies)"
   ]
  },
  {
   "cell_type": "code",
   "execution_count": 12,
   "metadata": {},
   "outputs": [
    {
     "data": {
      "text/plain": [
       "<matplotlib.axes._subplots.AxesSubplot at 0x21dd4403c88>"
      ]
     },
     "execution_count": 12,
     "metadata": {},
     "output_type": "execute_result"
    },
    {
     "data": {
      "image/png": "[encoded data removed]",
      "text/plain": [
       "<Figure size 432x288 with 2 Axes>"
      ]
     },
     "metadata": {
      "needs_background": "light"
     },
     "output_type": "display_data"
    }
   ],
   "source": [
    "sn.heatmap(df[['Ranking','Rating','Number of Reviews']].corr())"
   ]
  },
  {
   "cell_type": "code",
   "execution_count": 13,
   "metadata": {},
   "outputs": [
    {
     "data": {
      "text/html": [
       "<div>\n",
       "<style scoped>\n",
       "    .dataframe tbody tr th:only-of-type {\n",
       "        vertical-align: middle;\n",
       "    }\n",
       "\n",
       "    .dataframe tbody tr th {\n",
       "        vertical-align: top;\n",
       "    }\n",
       "\n",
       "    .dataframe thead th {\n",
       "        text-align: right;\n",
       "    }\n",
       "</style>\n",
       "<table border=\"1\" class=\"dataframe\">\n",
       "  <thead>\n",
       "    <tr style=\"text-align: right;\">\n",
       "      <th></th>\n",
       "      <th>Ranking</th>\n",
       "      <th>Rating</th>\n",
       "      <th>Number of Reviews</th>\n",
       "    </tr>\n",
       "  </thead>\n",
       "  <tbody>\n",
       "    <tr>\n",
       "      <th>Ranking</th>\n",
       "      <td>1.000000</td>\n",
       "      <td>-0.368371</td>\n",
       "      <td>-0.223775</td>\n",
       "    </tr>\n",
       "    <tr>\n",
       "      <th>Rating</th>\n",
       "      <td>-0.368371</td>\n",
       "      <td>1.000000</td>\n",
       "      <td>0.030964</td>\n",
       "    </tr>\n",
       "    <tr>\n",
       "      <th>Number of Reviews</th>\n",
       "      <td>-0.223775</td>\n",
       "      <td>0.030964</td>\n",
       "      <td>1.000000</td>\n",
       "    </tr>\n",
       "  </tbody>\n",
       "</table>\n",
       "</div>"
      ],
      "text/plain": [
       "                    Ranking    Rating  Number of Reviews\n",
       "Ranking            1.000000 -0.368371          -0.223775\n",
       "Rating            -0.368371  1.000000           0.030964\n",
       "Number of Reviews -0.223775  0.030964           1.000000"
      ]
     },
     "execution_count": 13,
     "metadata": {},
     "output_type": "execute_result"
    }
   ],
   "source": [
    "df[['Ranking','Rating','Number of Reviews']].corr()"
   ]
  },
  {
   "cell_type": "markdown",
   "metadata": {},
   "source": [
    "Исходя из таблицы корреляции:\n",
    "сильнее всего коррелирует целевой признак с признаком \"Ranking\", так как чем меньше место (чем ближе к 1), тем выше рейтинг."
   ]
  },
  {
   "cell_type": "markdown",
   "metadata": {},
   "source": [
    "# Price Range"
   ]
  },
  {
   "cell_type": "code",
   "execution_count": 14,
   "metadata": {},
   "outputs": [
    {
     "data": {
      "text/plain": [
       "array(['$$ - $$$', nan, '$$$$', '$'], dtype=object)"
      ]
     },
     "execution_count": 14,
     "metadata": {},
     "output_type": "execute_result"
    }
   ],
   "source": [
    "df['Price Range'].unique()"
   ]
  },
  {
   "cell_type": "markdown",
   "metadata": {},
   "source": [
    "Не учитывая пропущенных значений мы имеем 3 уникальных значения, можно их поменять на более понятные для восприятия значения.\n",
    "\n",
    "Можно заменить эти символы на:\n",
    "\n",
    "low  - низкая стоимость - 1\n",
    "\n",
    "middle - средняя стоимость - 2\n",
    "\n",
    "high - высокая стоимость - 3"
   ]
  },
  {
   "cell_type": "code",
   "execution_count": 15,
   "metadata": {},
   "outputs": [],
   "source": [
    "df['Price Range'] = df['Price Range'].dropna().apply(lambda x: price_range(x))"
   ]
  },
  {
   "cell_type": "code",
   "execution_count": 16,
   "metadata": {},
   "outputs": [
    {
     "data": {
      "text/plain": [
       "2.0    23041\n",
       "1.0     7816\n",
       "3.0     1782\n",
       "Name: Price Range, dtype: int64"
      ]
     },
     "execution_count": 16,
     "metadata": {},
     "output_type": "execute_result"
    }
   ],
   "source": [
    "df['Price Range'].value_counts()"
   ]
  },
  {
   "cell_type": "markdown",
   "metadata": {},
   "source": [
    "Замена символов на более понятные значения благодаря функции price_range(), и заполнение None значений на 'middle', так как 'middle' значение является самым частым."
   ]
  },
  {
   "cell_type": "code",
   "execution_count": 17,
   "metadata": {},
   "outputs": [],
   "source": [
    "df['Price Range'] = df['Price Range'].fillna(2)"
   ]
  },
  {
   "cell_type": "markdown",
   "metadata": {},
   "source": [
    "Создание dummy-колонок из колонки ['Price Range']"
   ]
  },
  {
   "cell_type": "markdown",
   "metadata": {},
   "source": [
    "# Cuisine Style"
   ]
  },
  {
   "cell_type": "markdown",
   "metadata": {},
   "source": [
    "Создание dummy-переменных самых популярных видов кухонь и подсчёт их поличества."
   ]
  },
  {
   "cell_type": "code",
   "execution_count": 18,
   "metadata": {},
   "outputs": [],
   "source": [
    "df['Cuisine Style'] = df['Cuisine Style'].dropna().apply(lambda x: x[1:-1].replace(\"'\",'').replace(' ','').split(','))"
   ]
  },
  {
   "cell_type": "code",
   "execution_count": 19,
   "metadata": {},
   "outputs": [],
   "source": [
    "top_list = df['Cuisine Style'].explode().dropna().value_counts()[:4].index"
   ]
  },
  {
   "cell_type": "code",
   "execution_count": 20,
   "metadata": {},
   "outputs": [],
   "source": [
    "df['Cuisine Style'] = df['Cuisine Style'].fillna('no_info')"
   ]
  },
  {
   "cell_type": "code",
   "execution_count": 21,
   "metadata": {},
   "outputs": [],
   "source": [
    "#for i in top_list:\n",
    "#    df[i] = df['Cuisine Style'].apply(lambda x: 1 if i in x else 0)"
   ]
  },
  {
   "cell_type": "code",
   "execution_count": 22,
   "metadata": {},
   "outputs": [],
   "source": [
    "df['Cuisine_Count'] = df['Cuisine Style'].apply(lambda x: 0 if x == 'no_info' else len(x))"
   ]
  },
  {
   "cell_type": "code",
   "execution_count": 23,
   "metadata": {},
   "outputs": [],
   "source": [
    "df = df.drop(['Cuisine Style'], axis=1)"
   ]
  },
  {
   "cell_type": "markdown",
   "metadata": {},
   "source": [
    "# Reviews"
   ]
  },
  {
   "cell_type": "code",
   "execution_count": 24,
   "metadata": {
    "scrolled": true
   },
   "outputs": [],
   "source": [
    "df['Days_Between_Reviews'] = df['Reviews'].str.findall('\\d+/\\d+/\\d+').fillna('[]')\n",
    "df['Days_Between_Reviews'] = df['Days_Between_Reviews'].apply(lambda x: None if len(x) == 0 else x)\n",
    "df['len_dates'] = df['Days_Between_Reviews'].dropna().apply(lambda x: len(x))"
   ]
  },
  {
   "cell_type": "code",
   "execution_count": 25,
   "metadata": {},
   "outputs": [
    {
     "data": {
      "text/plain": [
       "2.0    36204\n",
       "1.0     5680\n",
       "3.0        4\n",
       "Name: len_dates, dtype: int64"
      ]
     },
     "execution_count": 25,
     "metadata": {},
     "output_type": "execute_result"
    }
   ],
   "source": [
    "df['len_dates'].value_counts()"
   ]
  },
  {
   "cell_type": "markdown",
   "metadata": {},
   "source": [
    "Можно увидеть, что обзоров, где содержатся 3 даты всего четыре штуки"
   ]
  },
  {
   "cell_type": "code",
   "execution_count": 26,
   "metadata": {},
   "outputs": [
    {
     "data": {
      "text/plain": [
       "\"[['The desserts arcade !', 'Visit today 3/1/2017'], ['06/02/2017', '01/03/2017']]\""
      ]
     },
     "execution_count": 26,
     "metadata": {},
     "output_type": "execute_result"
    }
   ],
   "source": [
    "df.loc[df['len_dates'] == 3]['Reviews'].iloc[0]"
   ]
  },
  {
   "cell_type": "markdown",
   "metadata": {},
   "source": [
    "Похоже,что дата была написана в отзыве, а сответственно некоторые из них дублируются, поэтому их количесво больше.\n",
    "\n",
    "Соответственно, у каждого списка дат, нужно убрать 1й элемент."
   ]
  },
  {
   "cell_type": "code",
   "execution_count": 27,
   "metadata": {},
   "outputs": [
    {
     "data": {
      "text/plain": [
       "9254      3/1/2017\n",
       "23348    29/9/2016\n",
       "42221     21/10/17\n",
       "43809    30/5/2017\n",
       "Name: Days_Between_Reviews, dtype: object"
      ]
     },
     "execution_count": 27,
     "metadata": {},
     "output_type": "execute_result"
    }
   ],
   "source": [
    "df.loc[df['len_dates']==3]['Days_Between_Reviews'].apply(lambda x: x.pop(0))"
   ]
  },
  {
   "cell_type": "code",
   "execution_count": 28,
   "metadata": {},
   "outputs": [
    {
     "data": {
      "text/plain": [
       "9254     [06/02/2017, 01/03/2017]\n",
       "23348    [09/30/2016, 08/25/2016]\n",
       "42221    [12/22/2017, 10/19/2017]\n",
       "43809    [04/13/2017, 05/30/2017]\n",
       "Name: Days_Between_Reviews, dtype: object"
      ]
     },
     "execution_count": 28,
     "metadata": {},
     "output_type": "execute_result"
    }
   ],
   "source": [
    "df.loc[df['len_dates']==3]['Days_Between_Reviews']"
   ]
  },
  {
   "cell_type": "code",
   "execution_count": 29,
   "metadata": {},
   "outputs": [],
   "source": [
    "df['len_dates'] = df['Days_Between_Reviews'].dropna().apply(lambda x: len(x))"
   ]
  },
  {
   "cell_type": "code",
   "execution_count": 30,
   "metadata": {},
   "outputs": [
    {
     "data": {
      "text/plain": [
       "2.0    36208\n",
       "1.0     5680\n",
       "Name: len_dates, dtype: int64"
      ]
     },
     "execution_count": 30,
     "metadata": {},
     "output_type": "execute_result"
    }
   ],
   "source": [
    "df['len_dates'].value_counts()"
   ]
  },
  {
   "cell_type": "markdown",
   "metadata": {},
   "source": [
    "Теперь переведём наши даты в формат даты и заменим пропущенные значения."
   ]
  },
  {
   "cell_type": "code",
   "execution_count": 31,
   "metadata": {},
   "outputs": [],
   "source": [
    "df['Days_Between_Reviews'] = df['Days_Between_Reviews'].dropna().apply(lambda x: row_to_time(x)).dt.days"
   ]
  },
  {
   "cell_type": "code",
   "execution_count": 32,
   "metadata": {},
   "outputs": [],
   "source": [
    "df['Days_Between_Reviews'] = df['Days_Between_Reviews'].fillna(0)"
   ]
  },
  {
   "cell_type": "markdown",
   "metadata": {},
   "source": [
    "Создадим колонку со средним количеством слов в отзывах"
   ]
  },
  {
   "cell_type": "code",
   "execution_count": 33,
   "metadata": {},
   "outputs": [],
   "source": [
    "df['len_dates'] = df['len_dates'].fillna(0)"
   ]
  },
  {
   "cell_type": "code",
   "execution_count": 34,
   "metadata": {},
   "outputs": [],
   "source": [
    "df['mean_words_reviews'] = (df['Reviews'].fillna('[]').str.findall('[a-zA-Z]+').apply(lambda x: len(x)) / df['len_dates']).fillna(0)"
   ]
  },
  {
   "cell_type": "code",
   "execution_count": 35,
   "metadata": {},
   "outputs": [],
   "source": [
    "df = df.drop(['len_dates', 'Reviews'], axis=1)"
   ]
  },
  {
   "cell_type": "markdown",
   "metadata": {},
   "source": [
    "# Number of Reviews"
   ]
  },
  {
   "cell_type": "code",
   "execution_count": 36,
   "metadata": {},
   "outputs": [
    {
     "data": {
      "text/plain": [
       "count    46800.000000\n",
       "mean       124.471197\n",
       "std        294.114345\n",
       "min          2.000000\n",
       "25%          9.000000\n",
       "50%         33.000000\n",
       "75%        115.000000\n",
       "max       9660.000000\n",
       "Name: Number of Reviews, dtype: float64"
      ]
     },
     "execution_count": 36,
     "metadata": {},
     "output_type": "execute_result"
    }
   ],
   "source": [
    "df['Number of Reviews'].describe()"
   ]
  },
  {
   "cell_type": "markdown",
   "metadata": {},
   "source": [
    "Заполним пропущенные значения отзывов медианой."
   ]
  },
  {
   "cell_type": "code",
   "execution_count": 37,
   "metadata": {},
   "outputs": [],
   "source": [
    "df['Number of Reviews'] = df['Number of Reviews'].fillna(round(df['Number of Reviews'].mean()))"
   ]
  },
  {
   "cell_type": "markdown",
   "metadata": {},
   "source": [
    "# ID_TA"
   ]
  },
  {
   "cell_type": "markdown",
   "metadata": {},
   "source": [
    "Изменим записи идентификатора ресторана и переделаем их в число."
   ]
  },
  {
   "cell_type": "code",
   "execution_count": 38,
   "metadata": {},
   "outputs": [
    {
     "data": {
      "text/plain": [
       "numpy.float64"
      ]
     },
     "execution_count": 38,
     "metadata": {},
     "output_type": "execute_result"
    }
   ],
   "source": [
    "df['ID_TA'] = df['ID_TA'].str[1:]\n",
    "df['ID_TA'] = df['ID_TA'].astype(float)\n",
    "type(df['ID_TA'].iloc[0])"
   ]
  },
  {
   "cell_type": "markdown",
   "metadata": {},
   "source": [
    "# City"
   ]
  },
  {
   "cell_type": "markdown",
   "metadata": {},
   "source": [
    "Разделим колонку 'City' на 3 группы:\n",
    "\n",
    "Часто встречаемые\n",
    "\n",
    "Средне встречаемые\n",
    "\n",
    "Редко встречаемые"
   ]
  },
  {
   "cell_type": "code",
   "execution_count": 39,
   "metadata": {},
   "outputs": [
    {
     "data": {
      "text/plain": [
       "count      50000\n",
       "unique        31\n",
       "top       London\n",
       "freq        7193\n",
       "Name: City, dtype: object"
      ]
     },
     "execution_count": 39,
     "metadata": {},
     "output_type": "execute_result"
    }
   ],
   "source": [
    "df['City'].describe()"
   ]
  },
  {
   "cell_type": "code",
   "execution_count": 40,
   "metadata": {},
   "outputs": [],
   "source": [
    "high_freq = df['City'].value_counts()[0:10].index\n",
    "average_freq = df['City'].value_counts()[10:20].index\n",
    "low_freq = df['City'].value_counts()[20:].index"
   ]
  },
  {
   "cell_type": "code",
   "execution_count": 41,
   "metadata": {},
   "outputs": [],
   "source": [
    "df['high_city_freq'] = df['City'].apply(lambda x: 1 if x in high_freq else 0)\n",
    "df['average_city_freq'] = df['City'].apply(lambda x: 1 if x in average_freq else 0)\n",
    "df['low_city_freq'] = df['City'].apply(lambda x: 1 if x in low_freq else 0)"
   ]
  },
  {
   "cell_type": "code",
   "execution_count": 42,
   "metadata": {},
   "outputs": [],
   "source": [
    "df = df.drop(['City'],axis = 1)"
   ]
  },
  {
   "cell_type": "markdown",
   "metadata": {},
   "source": [
    "# Restaurant_id"
   ]
  },
  {
   "cell_type": "markdown",
   "metadata": {},
   "source": [
    "Из id ресторана оставим только номер "
   ]
  },
  {
   "cell_type": "code",
   "execution_count": 43,
   "metadata": {},
   "outputs": [],
   "source": [
    "df['Restaurant_id'] = df['Restaurant_id'].apply(lambda x: float(x[3:]))"
   ]
  },
  {
   "cell_type": "code",
   "execution_count": 44,
   "metadata": {},
   "outputs": [],
   "source": [
    "df['Rating'] = df['Rating'].fillna(0)"
   ]
  },
  {
   "cell_type": "markdown",
   "metadata": {},
   "source": [
    "# Осмотр данных"
   ]
  },
  {
   "cell_type": "code",
   "execution_count": 45,
   "metadata": {
    "scrolled": true
   },
   "outputs": [
    {
     "data": {
      "text/plain": [
       "Restaurant_id           0\n",
       "Ranking                 0\n",
       "Rating                  0\n",
       "Price Range             0\n",
       "Number of Reviews       0\n",
       "URL_TA                  0\n",
       "ID_TA                   0\n",
       "Cuisine_Count           0\n",
       "Days_Between_Reviews    0\n",
       "mean_words_reviews      0\n",
       "high_city_freq          0\n",
       "average_city_freq       0\n",
       "low_city_freq           0\n",
       "dtype: int64"
      ]
     },
     "execution_count": 45,
     "metadata": {},
     "output_type": "execute_result"
    }
   ],
   "source": [
    "df.isna().sum()"
   ]
  },
  {
   "cell_type": "code",
   "execution_count": 46,
   "metadata": {},
   "outputs": [],
   "source": [
    "df = df.drop(['URL_TA'], axis=1)"
   ]
  },
  {
   "cell_type": "code",
   "execution_count": 57,
   "metadata": {},
   "outputs": [
    {
     "data": {
      "text/html": [
       "<div>\n",
       "<style scoped>\n",
       "    .dataframe tbody tr th:only-of-type {\n",
       "        vertical-align: middle;\n",
       "    }\n",
       "\n",
       "    .dataframe tbody tr th {\n",
       "        vertical-align: top;\n",
       "    }\n",
       "\n",
       "    .dataframe thead th {\n",
       "        text-align: right;\n",
       "    }\n",
       "</style>\n",
       "<table border=\"1\" class=\"dataframe\">\n",
       "  <thead>\n",
       "    <tr style=\"text-align: right;\">\n",
       "      <th></th>\n",
       "      <th>Restaurant_id</th>\n",
       "      <th>Ranking</th>\n",
       "      <th>Rating</th>\n",
       "      <th>Price Range</th>\n",
       "      <th>Number of Reviews</th>\n",
       "      <th>ID_TA</th>\n",
       "      <th>Cuisine_Count</th>\n",
       "      <th>Days_Between_Reviews</th>\n",
       "      <th>mean_words_reviews</th>\n",
       "      <th>high_city_freq</th>\n",
       "      <th>average_city_freq</th>\n",
       "      <th>low_city_freq</th>\n",
       "    </tr>\n",
       "  </thead>\n",
       "  <tbody>\n",
       "    <tr>\n",
       "      <th>0</th>\n",
       "      <td>5569.0</td>\n",
       "      <td>5570.0</td>\n",
       "      <td>3.5</td>\n",
       "      <td>2.0</td>\n",
       "      <td>194.0</td>\n",
       "      <td>1912643.0</td>\n",
       "      <td>3</td>\n",
       "      <td>41.0</td>\n",
       "      <td>4.5</td>\n",
       "      <td>1</td>\n",
       "      <td>0</td>\n",
       "      <td>0</td>\n",
       "    </tr>\n",
       "    <tr>\n",
       "      <th>1</th>\n",
       "      <td>1535.0</td>\n",
       "      <td>1537.0</td>\n",
       "      <td>4.0</td>\n",
       "      <td>2.0</td>\n",
       "      <td>10.0</td>\n",
       "      <td>7992032.0</td>\n",
       "      <td>0</td>\n",
       "      <td>382.0</td>\n",
       "      <td>2.5</td>\n",
       "      <td>0</td>\n",
       "      <td>1</td>\n",
       "      <td>0</td>\n",
       "    </tr>\n",
       "    <tr>\n",
       "      <th>2</th>\n",
       "      <td>352.0</td>\n",
       "      <td>353.0</td>\n",
       "      <td>4.5</td>\n",
       "      <td>3.0</td>\n",
       "      <td>688.0</td>\n",
       "      <td>8632781.0</td>\n",
       "      <td>7</td>\n",
       "      <td>2.0</td>\n",
       "      <td>3.0</td>\n",
       "      <td>1</td>\n",
       "      <td>0</td>\n",
       "      <td>0</td>\n",
       "    </tr>\n",
       "    <tr>\n",
       "      <th>3</th>\n",
       "      <td>3456.0</td>\n",
       "      <td>3458.0</td>\n",
       "      <td>5.0</td>\n",
       "      <td>2.0</td>\n",
       "      <td>3.0</td>\n",
       "      <td>1358776.0</td>\n",
       "      <td>0</td>\n",
       "      <td>0.0</td>\n",
       "      <td>0.0</td>\n",
       "      <td>1</td>\n",
       "      <td>0</td>\n",
       "      <td>0</td>\n",
       "    </tr>\n",
       "    <tr>\n",
       "      <th>4</th>\n",
       "      <td>615.0</td>\n",
       "      <td>621.0</td>\n",
       "      <td>4.0</td>\n",
       "      <td>2.0</td>\n",
       "      <td>84.0</td>\n",
       "      <td>6864963.0</td>\n",
       "      <td>3</td>\n",
       "      <td>272.0</td>\n",
       "      <td>7.0</td>\n",
       "      <td>0</td>\n",
       "      <td>1</td>\n",
       "      <td>0</td>\n",
       "    </tr>\n",
       "    <tr>\n",
       "      <th>...</th>\n",
       "      <td>...</td>\n",
       "      <td>...</td>\n",
       "      <td>...</td>\n",
       "      <td>...</td>\n",
       "      <td>...</td>\n",
       "      <td>...</td>\n",
       "      <td>...</td>\n",
       "      <td>...</td>\n",
       "      <td>...</td>\n",
       "      <td>...</td>\n",
       "      <td>...</td>\n",
       "      <td>...</td>\n",
       "    </tr>\n",
       "    <tr>\n",
       "      <th>49995</th>\n",
       "      <td>9995.0</td>\n",
       "      <td>4367.0</td>\n",
       "      <td>0.0</td>\n",
       "      <td>1.0</td>\n",
       "      <td>28.0</td>\n",
       "      <td>11916827.0</td>\n",
       "      <td>4</td>\n",
       "      <td>122.0</td>\n",
       "      <td>5.5</td>\n",
       "      <td>1</td>\n",
       "      <td>0</td>\n",
       "      <td>0</td>\n",
       "    </tr>\n",
       "    <tr>\n",
       "      <th>49996</th>\n",
       "      <td>9996.0</td>\n",
       "      <td>2612.0</td>\n",
       "      <td>0.0</td>\n",
       "      <td>2.0</td>\n",
       "      <td>2.0</td>\n",
       "      <td>12701633.0</td>\n",
       "      <td>4</td>\n",
       "      <td>1037.0</td>\n",
       "      <td>3.0</td>\n",
       "      <td>1</td>\n",
       "      <td>0</td>\n",
       "      <td>0</td>\n",
       "    </tr>\n",
       "    <tr>\n",
       "      <th>49997</th>\n",
       "      <td>9997.0</td>\n",
       "      <td>5562.0</td>\n",
       "      <td>0.0</td>\n",
       "      <td>2.0</td>\n",
       "      <td>2.0</td>\n",
       "      <td>13198194.0</td>\n",
       "      <td>0</td>\n",
       "      <td>0.0</td>\n",
       "      <td>0.0</td>\n",
       "      <td>1</td>\n",
       "      <td>0</td>\n",
       "      <td>0</td>\n",
       "    </tr>\n",
       "    <tr>\n",
       "      <th>49998</th>\n",
       "      <td>9998.0</td>\n",
       "      <td>4010.0</td>\n",
       "      <td>0.0</td>\n",
       "      <td>2.0</td>\n",
       "      <td>2.0</td>\n",
       "      <td>3862815.0</td>\n",
       "      <td>1</td>\n",
       "      <td>0.0</td>\n",
       "      <td>0.0</td>\n",
       "      <td>1</td>\n",
       "      <td>0</td>\n",
       "      <td>0</td>\n",
       "    </tr>\n",
       "    <tr>\n",
       "      <th>49999</th>\n",
       "      <td>9999.0</td>\n",
       "      <td>6791.0</td>\n",
       "      <td>0.0</td>\n",
       "      <td>2.0</td>\n",
       "      <td>14.0</td>\n",
       "      <td>10342814.0</td>\n",
       "      <td>0</td>\n",
       "      <td>1520.0</td>\n",
       "      <td>5.0</td>\n",
       "      <td>1</td>\n",
       "      <td>0</td>\n",
       "      <td>0</td>\n",
       "    </tr>\n",
       "  </tbody>\n",
       "</table>\n",
       "<p>50000 rows × 12 columns</p>\n",
       "</div>"
      ],
      "text/plain": [
       "       Restaurant_id  Ranking  Rating  Price Range  Number of Reviews  \\\n",
       "0             5569.0   5570.0     3.5          2.0              194.0   \n",
       "1             1535.0   1537.0     4.0          2.0               10.0   \n",
       "2              352.0    353.0     4.5          3.0              688.0   \n",
       "3             3456.0   3458.0     5.0          2.0                3.0   \n",
       "4              615.0    621.0     4.0          2.0               84.0   \n",
       "...              ...      ...     ...          ...                ...   \n",
       "49995         9995.0   4367.0     0.0          1.0               28.0   \n",
       "49996         9996.0   2612.0     0.0          2.0                2.0   \n",
       "49997         9997.0   5562.0     0.0          2.0                2.0   \n",
       "49998         9998.0   4010.0     0.0          2.0                2.0   \n",
       "49999         9999.0   6791.0     0.0          2.0               14.0   \n",
       "\n",
       "            ID_TA  Cuisine_Count  Days_Between_Reviews  mean_words_reviews  \\\n",
       "0       1912643.0              3                  41.0                 4.5   \n",
       "1       7992032.0              0                 382.0                 2.5   \n",
       "2       8632781.0              7                   2.0                 3.0   \n",
       "3       1358776.0              0                   0.0                 0.0   \n",
       "4       6864963.0              3                 272.0                 7.0   \n",
       "...           ...            ...                   ...                 ...   \n",
       "49995  11916827.0              4                 122.0                 5.5   \n",
       "49996  12701633.0              4                1037.0                 3.0   \n",
       "49997  13198194.0              0                   0.0                 0.0   \n",
       "49998   3862815.0              1                   0.0                 0.0   \n",
       "49999  10342814.0              0                1520.0                 5.0   \n",
       "\n",
       "       high_city_freq  average_city_freq  low_city_freq  \n",
       "0                   1                  0              0  \n",
       "1                   0                  1              0  \n",
       "2                   1                  0              0  \n",
       "3                   1                  0              0  \n",
       "4                   0                  1              0  \n",
       "...               ...                ...            ...  \n",
       "49995               1                  0              0  \n",
       "49996               1                  0              0  \n",
       "49997               1                  0              0  \n",
       "49998               1                  0              0  \n",
       "49999               1                  0              0  \n",
       "\n",
       "[50000 rows x 12 columns]"
      ]
     },
     "execution_count": 57,
     "metadata": {},
     "output_type": "execute_result"
    }
   ],
   "source": [
    "df"
   ]
  },
  {
   "cell_type": "code",
   "execution_count": 48,
   "metadata": {
    "scrolled": true
   },
   "outputs": [
    {
     "data": {
      "text/html": [
       "<div>\n",
       "<style scoped>\n",
       "    .dataframe tbody tr th:only-of-type {\n",
       "        vertical-align: middle;\n",
       "    }\n",
       "\n",
       "    .dataframe tbody tr th {\n",
       "        vertical-align: top;\n",
       "    }\n",
       "\n",
       "    .dataframe thead th {\n",
       "        text-align: right;\n",
       "    }\n",
       "</style>\n",
       "<table border=\"1\" class=\"dataframe\">\n",
       "  <thead>\n",
       "    <tr style=\"text-align: right;\">\n",
       "      <th></th>\n",
       "      <th>Restaurant_id</th>\n",
       "      <th>Ranking</th>\n",
       "      <th>Rating</th>\n",
       "      <th>Price Range</th>\n",
       "      <th>Number of Reviews</th>\n",
       "      <th>ID_TA</th>\n",
       "      <th>Cuisine_Count</th>\n",
       "      <th>Days_Between_Reviews</th>\n",
       "      <th>mean_words_reviews</th>\n",
       "      <th>high_city_freq</th>\n",
       "      <th>average_city_freq</th>\n",
       "      <th>low_city_freq</th>\n",
       "    </tr>\n",
       "  </thead>\n",
       "  <tbody>\n",
       "    <tr>\n",
       "      <th>Restaurant_id</th>\n",
       "      <td>1.000000</td>\n",
       "      <td>0.825090</td>\n",
       "      <td>-0.257137</td>\n",
       "      <td>-0.020504</td>\n",
       "      <td>-0.178652</td>\n",
       "      <td>0.039769</td>\n",
       "      <td>-0.255471</td>\n",
       "      <td>0.096721</td>\n",
       "      <td>-0.061623</td>\n",
       "      <td>0.404913</td>\n",
       "      <td>-0.274226</td>\n",
       "      <td>-0.242954</td>\n",
       "    </tr>\n",
       "    <tr>\n",
       "      <th>Ranking</th>\n",
       "      <td>0.825090</td>\n",
       "      <td>1.000000</td>\n",
       "      <td>-0.109897</td>\n",
       "      <td>-0.026334</td>\n",
       "      <td>-0.214359</td>\n",
       "      <td>0.049756</td>\n",
       "      <td>-0.315655</td>\n",
       "      <td>0.116448</td>\n",
       "      <td>-0.076674</td>\n",
       "      <td>0.491809</td>\n",
       "      <td>-0.335171</td>\n",
       "      <td>-0.292408</td>\n",
       "    </tr>\n",
       "    <tr>\n",
       "      <th>Rating</th>\n",
       "      <td>-0.257137</td>\n",
       "      <td>-0.109897</td>\n",
       "      <td>1.000000</td>\n",
       "      <td>-0.012176</td>\n",
       "      <td>0.011001</td>\n",
       "      <td>0.049589</td>\n",
       "      <td>0.032704</td>\n",
       "      <td>-0.012905</td>\n",
       "      <td>0.008976</td>\n",
       "      <td>-0.007808</td>\n",
       "      <td>-0.000011</td>\n",
       "      <td>0.011479</td>\n",
       "    </tr>\n",
       "    <tr>\n",
       "      <th>Price Range</th>\n",
       "      <td>-0.020504</td>\n",
       "      <td>-0.026334</td>\n",
       "      <td>-0.012176</td>\n",
       "      <td>1.000000</td>\n",
       "      <td>0.112717</td>\n",
       "      <td>-0.061790</td>\n",
       "      <td>-0.029695</td>\n",
       "      <td>-0.010813</td>\n",
       "      <td>-0.049762</td>\n",
       "      <td>-0.025908</td>\n",
       "      <td>0.032862</td>\n",
       "      <td>-0.004093</td>\n",
       "    </tr>\n",
       "    <tr>\n",
       "      <th>Number of Reviews</th>\n",
       "      <td>-0.178652</td>\n",
       "      <td>-0.214359</td>\n",
       "      <td>0.011001</td>\n",
       "      <td>0.112717</td>\n",
       "      <td>1.000000</td>\n",
       "      <td>-0.272539</td>\n",
       "      <td>0.384727</td>\n",
       "      <td>-0.136611</td>\n",
       "      <td>0.079711</td>\n",
       "      <td>0.048060</td>\n",
       "      <td>-0.041783</td>\n",
       "      <td>-0.016996</td>\n",
       "    </tr>\n",
       "    <tr>\n",
       "      <th>ID_TA</th>\n",
       "      <td>0.039769</td>\n",
       "      <td>0.049756</td>\n",
       "      <td>0.049589</td>\n",
       "      <td>-0.061790</td>\n",
       "      <td>-0.272539</td>\n",
       "      <td>1.000000</td>\n",
       "      <td>-0.252374</td>\n",
       "      <td>0.001931</td>\n",
       "      <td>-0.177299</td>\n",
       "      <td>-0.017993</td>\n",
       "      <td>0.010632</td>\n",
       "      <td>0.012787</td>\n",
       "    </tr>\n",
       "    <tr>\n",
       "      <th>Cuisine_Count</th>\n",
       "      <td>-0.255471</td>\n",
       "      <td>-0.315655</td>\n",
       "      <td>0.032704</td>\n",
       "      <td>-0.029695</td>\n",
       "      <td>0.384727</td>\n",
       "      <td>-0.252374</td>\n",
       "      <td>1.000000</td>\n",
       "      <td>-0.261350</td>\n",
       "      <td>0.197478</td>\n",
       "      <td>-0.026606</td>\n",
       "      <td>-0.012750</td>\n",
       "      <td>0.055415</td>\n",
       "    </tr>\n",
       "    <tr>\n",
       "      <th>Days_Between_Reviews</th>\n",
       "      <td>0.096721</td>\n",
       "      <td>0.116448</td>\n",
       "      <td>-0.012905</td>\n",
       "      <td>-0.010813</td>\n",
       "      <td>-0.136611</td>\n",
       "      <td>0.001931</td>\n",
       "      <td>-0.261350</td>\n",
       "      <td>1.000000</td>\n",
       "      <td>0.198677</td>\n",
       "      <td>0.003225</td>\n",
       "      <td>0.007291</td>\n",
       "      <td>-0.014084</td>\n",
       "    </tr>\n",
       "    <tr>\n",
       "      <th>mean_words_reviews</th>\n",
       "      <td>-0.061623</td>\n",
       "      <td>-0.076674</td>\n",
       "      <td>0.008976</td>\n",
       "      <td>-0.049762</td>\n",
       "      <td>0.079711</td>\n",
       "      <td>-0.177299</td>\n",
       "      <td>0.197478</td>\n",
       "      <td>0.198677</td>\n",
       "      <td>1.000000</td>\n",
       "      <td>-0.050454</td>\n",
       "      <td>0.018819</td>\n",
       "      <td>0.049956</td>\n",
       "    </tr>\n",
       "    <tr>\n",
       "      <th>high_city_freq</th>\n",
       "      <td>0.404913</td>\n",
       "      <td>0.491809</td>\n",
       "      <td>-0.007808</td>\n",
       "      <td>-0.025908</td>\n",
       "      <td>0.048060</td>\n",
       "      <td>-0.017993</td>\n",
       "      <td>-0.026606</td>\n",
       "      <td>0.003225</td>\n",
       "      <td>-0.050454</td>\n",
       "      <td>1.000000</td>\n",
       "      <td>-0.743629</td>\n",
       "      <td>-0.514904</td>\n",
       "    </tr>\n",
       "    <tr>\n",
       "      <th>average_city_freq</th>\n",
       "      <td>-0.274226</td>\n",
       "      <td>-0.335171</td>\n",
       "      <td>-0.000011</td>\n",
       "      <td>0.032862</td>\n",
       "      <td>-0.041783</td>\n",
       "      <td>0.010632</td>\n",
       "      <td>-0.012750</td>\n",
       "      <td>0.007291</td>\n",
       "      <td>0.018819</td>\n",
       "      <td>-0.743629</td>\n",
       "      <td>1.000000</td>\n",
       "      <td>-0.190251</td>\n",
       "    </tr>\n",
       "    <tr>\n",
       "      <th>low_city_freq</th>\n",
       "      <td>-0.242954</td>\n",
       "      <td>-0.292408</td>\n",
       "      <td>0.011479</td>\n",
       "      <td>-0.004093</td>\n",
       "      <td>-0.016996</td>\n",
       "      <td>0.012787</td>\n",
       "      <td>0.055415</td>\n",
       "      <td>-0.014084</td>\n",
       "      <td>0.049956</td>\n",
       "      <td>-0.514904</td>\n",
       "      <td>-0.190251</td>\n",
       "      <td>1.000000</td>\n",
       "    </tr>\n",
       "  </tbody>\n",
       "</table>\n",
       "</div>"
      ],
      "text/plain": [
       "                      Restaurant_id   Ranking    Rating  Price Range  \\\n",
       "Restaurant_id              1.000000  0.825090 -0.257137    -0.020504   \n",
       "Ranking                    0.825090  1.000000 -0.109897    -0.026334   \n",
       "Rating                    -0.257137 -0.109897  1.000000    -0.012176   \n",
       "Price Range               -0.020504 -0.026334 -0.012176     1.000000   \n",
       "Number of Reviews         -0.178652 -0.214359  0.011001     0.112717   \n",
       "ID_TA                      0.039769  0.049756  0.049589    -0.061790   \n",
       "Cuisine_Count             -0.255471 -0.315655  0.032704    -0.029695   \n",
       "Days_Between_Reviews       0.096721  0.116448 -0.012905    -0.010813   \n",
       "mean_words_reviews        -0.061623 -0.076674  0.008976    -0.049762   \n",
       "high_city_freq             0.404913  0.491809 -0.007808    -0.025908   \n",
       "average_city_freq         -0.274226 -0.335171 -0.000011     0.032862   \n",
       "low_city_freq             -0.242954 -0.292408  0.011479    -0.004093   \n",
       "\n",
       "                      Number of Reviews     ID_TA  Cuisine_Count  \\\n",
       "Restaurant_id                 -0.178652  0.039769      -0.255471   \n",
       "Ranking                       -0.214359  0.049756      -0.315655   \n",
       "Rating                         0.011001  0.049589       0.032704   \n",
       "Price Range                    0.112717 -0.061790      -0.029695   \n",
       "Number of Reviews              1.000000 -0.272539       0.384727   \n",
       "ID_TA                         -0.272539  1.000000      -0.252374   \n",
       "Cuisine_Count                  0.384727 -0.252374       1.000000   \n",
       "Days_Between_Reviews          -0.136611  0.001931      -0.261350   \n",
       "mean_words_reviews             0.079711 -0.177299       0.197478   \n",
       "high_city_freq                 0.048060 -0.017993      -0.026606   \n",
       "average_city_freq             -0.041783  0.010632      -0.012750   \n",
       "low_city_freq                 -0.016996  0.012787       0.055415   \n",
       "\n",
       "                      Days_Between_Reviews  mean_words_reviews  \\\n",
       "Restaurant_id                     0.096721           -0.061623   \n",
       "Ranking                           0.116448           -0.076674   \n",
       "Rating                           -0.012905            0.008976   \n",
       "Price Range                      -0.010813           -0.049762   \n",
       "Number of Reviews                -0.136611            0.079711   \n",
       "ID_TA                             0.001931           -0.177299   \n",
       "Cuisine_Count                    -0.261350            0.197478   \n",
       "Days_Between_Reviews              1.000000            0.198677   \n",
       "mean_words_reviews                0.198677            1.000000   \n",
       "high_city_freq                    0.003225           -0.050454   \n",
       "average_city_freq                 0.007291            0.018819   \n",
       "low_city_freq                    -0.014084            0.049956   \n",
       "\n",
       "                      high_city_freq  average_city_freq  low_city_freq  \n",
       "Restaurant_id               0.404913          -0.274226      -0.242954  \n",
       "Ranking                     0.491809          -0.335171      -0.292408  \n",
       "Rating                     -0.007808          -0.000011       0.011479  \n",
       "Price Range                -0.025908           0.032862      -0.004093  \n",
       "Number of Reviews           0.048060          -0.041783      -0.016996  \n",
       "ID_TA                      -0.017993           0.010632       0.012787  \n",
       "Cuisine_Count              -0.026606          -0.012750       0.055415  \n",
       "Days_Between_Reviews        0.003225           0.007291      -0.014084  \n",
       "mean_words_reviews         -0.050454           0.018819       0.049956  \n",
       "high_city_freq              1.000000          -0.743629      -0.514904  \n",
       "average_city_freq          -0.743629           1.000000      -0.190251  \n",
       "low_city_freq              -0.514904          -0.190251       1.000000  "
      ]
     },
     "execution_count": 48,
     "metadata": {},
     "output_type": "execute_result"
    }
   ],
   "source": [
    "df.corr()"
   ]
  },
  {
   "cell_type": "code",
   "execution_count": 49,
   "metadata": {},
   "outputs": [
    {
     "data": {
      "text/plain": [
       "<matplotlib.axes._subplots.AxesSubplot at 0x21dd4715708>"
      ]
     },
     "execution_count": 49,
     "metadata": {},
     "output_type": "execute_result"
    },
    {
     "data": {
      "image/png": "[encoded data removed]",
      "text/plain": [
       "<Figure size 432x288 with 2 Axes>"
      ]
     },
     "metadata": {
      "needs_background": "light"
     },
     "output_type": "display_data"
    }
   ],
   "source": [
    "sn.heatmap(df.corr())"
   ]
  },
  {
   "cell_type": "markdown",
   "metadata": {},
   "source": [
    "# Разбиваем датафрейм на части, необходимые для обучения и тестирования модели"
   ]
  },
  {
   "cell_type": "code",
   "execution_count": 50,
   "metadata": {},
   "outputs": [],
   "source": [
    "# Х - данные с информацией о ресторанах, у - целевая переменная (рейтинги ресторанов)\n",
    "X = df.drop(['Rating'], axis = 1)\n",
    "y = df['Rating']"
   ]
  },
  {
   "cell_type": "code",
   "execution_count": 51,
   "metadata": {},
   "outputs": [],
   "source": [
    "# Загружаем специальный инструмент для разбивки:\n",
    "from sklearn.model_selection import train_test_split"
   ]
  },
  {
   "cell_type": "code",
   "execution_count": 52,
   "metadata": {},
   "outputs": [],
   "source": [
    "# Наборы данных с меткой \"train\" будут использоваться для обучения модели, \"test\" - для тестирования.\n",
    "# Для тестирования мы будем использовать 25% от исходного датасета.\n",
    "X_train, X_test, y_train, y_test = train_test_split(X, y, test_size=0.25)"
   ]
  },
  {
   "cell_type": "markdown",
   "metadata": {},
   "source": [
    "# Создаём, обучаем и тестируем модель"
   ]
  },
  {
   "cell_type": "code",
   "execution_count": 53,
   "metadata": {},
   "outputs": [],
   "source": [
    "# Импортируем необходимые библиотеки:\n",
    "from sklearn.ensemble import RandomForestRegressor # инструмент для создания и обучения модели\n",
    "from sklearn import metrics # инструменты для оценки точности модели"
   ]
  },
  {
   "cell_type": "code",
   "execution_count": 54,
   "metadata": {},
   "outputs": [],
   "source": [
    "# Создаём модель\n",
    "regr = RandomForestRegressor(n_estimators=100)\n",
    "\n",
    "# Обучаем модель на тестовом наборе данных\n",
    "regr.fit(X_train, y_train)\n",
    "\n",
    "# Используем обученную модель для предсказания рейтинга ресторанов в тестовой выборке.\n",
    "# Предсказанные значения записываем в переменную y_pred\n",
    "y_pred = regr.predict(X_test)"
   ]
  },
  {
   "cell_type": "code",
   "execution_count": 55,
   "metadata": {},
   "outputs": [
    {
     "name": "stdout",
     "output_type": "stream",
     "text": [
      "MAE: 0.34883879999999995\n"
     ]
    }
   ],
   "source": [
    "# Сравниваем предсказанные значения (y_pred) с реальными (y_test), и смотрим насколько они в среднем отличаются\n",
    "# Метрика называется Mean Absolute Error (MAE) и показывает среднее отклонение предсказанных значений от фактических.\n",
    "print('MAE:', metrics.mean_absolute_error(y_test, y_pred))"
   ]
  },
  {
   "cell_type": "code",
   "execution_count": 56,
   "metadata": {},
   "outputs": [
    {
     "data": {
      "text/plain": [
       "<matplotlib.axes._subplots.AxesSubplot at 0x21dd4ca8a48>"
      ]
     },
     "execution_count": 56,
     "metadata": {},
     "output_type": "execute_result"
    },
    {
     "data": {
      "image/png": "[encoded data removed]",
      "text/plain": [
       "<Figure size 720x720 with 1 Axes>"
      ]
     },
     "metadata": {
      "needs_background": "light"
     },
     "output_type": "display_data"
    }
   ],
   "source": [
    "plt.rcParams['figure.figsize'] = (10,10)\n",
    "feat_importances = pd.Series(regr.feature_importances_, index=X.columns)\n",
    "feat_importances.nlargest(15).plot(kind='barh')"
   ]
  }
 ],
 "metadata": {
  "kernelspec": {
   "display_name": "Python 3",
   "language": "python",
   "name": "python3"
  },
  "language_info": {
   "codemirror_mode": {
    "name": "ipython",
    "version": 3
   },
   "file_extension": ".py",
   "mimetype": "text/x-python",
   "name": "python",
   "nbconvert_exporter": "python",
   "pygments_lexer": "ipython3",
   "version": "3.7.7"
  }
 },
 "nbformat": 4,
 "nbformat_minor": 2
}
