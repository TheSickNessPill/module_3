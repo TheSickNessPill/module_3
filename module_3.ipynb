{
 "cells": [
  {
   "cell_type": "markdown",
   "metadata": {},
   "source": [
    "# Загрузка Pandas и очистка данных"
   ]
  },
  {
   "cell_type": "code",
   "execution_count": 1,
   "metadata": {},
   "outputs": [],
   "source": [
    "import pandas as pd\n",
    "import re\n",
    "from collections import Counter\n",
    "from datetime import datetime, timedelta\n",
    "import matplotlib.pyplot as plt\n",
    "import seaborn as sns\n",
    "from itertools import combinations\n",
    "from scipy.stats import ttest_ind\n",
    "import numpy as np"
   ]
  },
  {
   "cell_type": "code",
   "execution_count": 2,
   "metadata": {},
   "outputs": [],
   "source": [
    "df = pd.read_csv(r'B:\\SKILL_FACTORY\\main_task.csv')"
   ]
  },
  {
   "cell_type": "markdown",
   "metadata": {},
   "source": [
    "Restaurant_id — идентификационный номер ресторана / сети ресторанов;\n",
    "\n",
    "City — город, в котором находится ресторан;\n",
    "\n",
    "Cuisine Style — кухня или кухни, к которым можно отнести блюда, предлагаемые в ресторане;\n",
    "\n",
    "Ranking — место, которое занимает данный ресторан среди всех ресторанов своего города;\n",
    "\n",
    "Rating — рейтинг ресторана по данным TripAdvisor (именно это значение должна будет предсказывать модель);\n",
    "\n",
    "Price Range — диапазон цен в ресторане;\n",
    "\n",
    "Number of Reviews — количество отзывов о ресторане;\n",
    "\n",
    "Reviews — данные о двух отзывах, которые отображаются на сайте ресторана;\n",
    "\n",
    "URL_TA — URL страницы ресторана на TripAdvosor;\n",
    "\n",
    "ID_TA — идентификатор ресторана в базе данных TripAdvisor."
   ]
  },
  {
   "cell_type": "code",
   "execution_count": 3,
   "metadata": {},
   "outputs": [
    {
     "data": {
      "text/html": [
       "<div>\n",
       "<style scoped>\n",
       "    .dataframe tbody tr th:only-of-type {\n",
       "        vertical-align: middle;\n",
       "    }\n",
       "\n",
       "    .dataframe tbody tr th {\n",
       "        vertical-align: top;\n",
       "    }\n",
       "\n",
       "    .dataframe thead th {\n",
       "        text-align: right;\n",
       "    }\n",
       "</style>\n",
       "<table border=\"1\" class=\"dataframe\">\n",
       "  <thead>\n",
       "    <tr style=\"text-align: right;\">\n",
       "      <th></th>\n",
       "      <th>Restaurant_id</th>\n",
       "      <th>City</th>\n",
       "      <th>Cuisine Style</th>\n",
       "      <th>Ranking</th>\n",
       "      <th>Rating</th>\n",
       "      <th>Price Range</th>\n",
       "      <th>Number of Reviews</th>\n",
       "      <th>Reviews</th>\n",
       "      <th>URL_TA</th>\n",
       "      <th>ID_TA</th>\n",
       "    </tr>\n",
       "  </thead>\n",
       "  <tbody>\n",
       "    <tr>\n",
       "      <th>0</th>\n",
       "      <td>id_5569</td>\n",
       "      <td>Paris</td>\n",
       "      <td>['European', 'French', 'International']</td>\n",
       "      <td>5570.0</td>\n",
       "      <td>3.5</td>\n",
       "      <td>$$ - $$$</td>\n",
       "      <td>194.0</td>\n",
       "      <td>[['Good food at your doorstep', 'A good hotel ...</td>\n",
       "      <td>/Restaurant_Review-g187147-d1912643-Reviews-R_...</td>\n",
       "      <td>d1912643</td>\n",
       "    </tr>\n",
       "    <tr>\n",
       "      <th>1</th>\n",
       "      <td>id_1535</td>\n",
       "      <td>Stockholm</td>\n",
       "      <td>NaN</td>\n",
       "      <td>1537.0</td>\n",
       "      <td>4.0</td>\n",
       "      <td>NaN</td>\n",
       "      <td>10.0</td>\n",
       "      <td>[['Unique cuisine', 'Delicious Nepalese food']...</td>\n",
       "      <td>/Restaurant_Review-g189852-d7992032-Reviews-Bu...</td>\n",
       "      <td>d7992032</td>\n",
       "    </tr>\n",
       "    <tr>\n",
       "      <th>2</th>\n",
       "      <td>id_352</td>\n",
       "      <td>London</td>\n",
       "      <td>['Japanese', 'Sushi', 'Asian', 'Grill', 'Veget...</td>\n",
       "      <td>353.0</td>\n",
       "      <td>4.5</td>\n",
       "      <td>$$$$</td>\n",
       "      <td>688.0</td>\n",
       "      <td>[['Catch up with friends', 'Not exceptional'],...</td>\n",
       "      <td>/Restaurant_Review-g186338-d8632781-Reviews-RO...</td>\n",
       "      <td>d8632781</td>\n",
       "    </tr>\n",
       "    <tr>\n",
       "      <th>3</th>\n",
       "      <td>id_3456</td>\n",
       "      <td>Berlin</td>\n",
       "      <td>NaN</td>\n",
       "      <td>3458.0</td>\n",
       "      <td>5.0</td>\n",
       "      <td>NaN</td>\n",
       "      <td>3.0</td>\n",
       "      <td>[[], []]</td>\n",
       "      <td>/Restaurant_Review-g187323-d1358776-Reviews-Es...</td>\n",
       "      <td>d1358776</td>\n",
       "    </tr>\n",
       "    <tr>\n",
       "      <th>4</th>\n",
       "      <td>id_615</td>\n",
       "      <td>Munich</td>\n",
       "      <td>['German', 'Central European', 'Vegetarian Fri...</td>\n",
       "      <td>621.0</td>\n",
       "      <td>4.0</td>\n",
       "      <td>$$ - $$$</td>\n",
       "      <td>84.0</td>\n",
       "      <td>[['Best place to try a Bavarian food', 'Nice b...</td>\n",
       "      <td>/Restaurant_Review-g187309-d6864963-Reviews-Au...</td>\n",
       "      <td>d6864963</td>\n",
       "    </tr>\n",
       "    <tr>\n",
       "      <th>...</th>\n",
       "      <td>...</td>\n",
       "      <td>...</td>\n",
       "      <td>...</td>\n",
       "      <td>...</td>\n",
       "      <td>...</td>\n",
       "      <td>...</td>\n",
       "      <td>...</td>\n",
       "      <td>...</td>\n",
       "      <td>...</td>\n",
       "      <td>...</td>\n",
       "    </tr>\n",
       "    <tr>\n",
       "      <th>39995</th>\n",
       "      <td>id_499</td>\n",
       "      <td>Milan</td>\n",
       "      <td>['Italian', 'Vegetarian Friendly', 'Vegan Opti...</td>\n",
       "      <td>500.0</td>\n",
       "      <td>4.5</td>\n",
       "      <td>$$ - $$$</td>\n",
       "      <td>79.0</td>\n",
       "      <td>[['The real Italian experience!', 'Wonderful f...</td>\n",
       "      <td>/Restaurant_Review-g187849-d2104414-Reviews-Ro...</td>\n",
       "      <td>d2104414</td>\n",
       "    </tr>\n",
       "    <tr>\n",
       "      <th>39996</th>\n",
       "      <td>id_6340</td>\n",
       "      <td>Paris</td>\n",
       "      <td>['French', 'American', 'Bar', 'European', 'Veg...</td>\n",
       "      <td>6341.0</td>\n",
       "      <td>3.5</td>\n",
       "      <td>$$ - $$$</td>\n",
       "      <td>542.0</td>\n",
       "      <td>[['Parisian atmosphere', 'Bit pricey but inter...</td>\n",
       "      <td>/Restaurant_Review-g187147-d1800036-Reviews-La...</td>\n",
       "      <td>d1800036</td>\n",
       "    </tr>\n",
       "    <tr>\n",
       "      <th>39997</th>\n",
       "      <td>id_1649</td>\n",
       "      <td>Stockholm</td>\n",
       "      <td>['Japanese', 'Sushi']</td>\n",
       "      <td>1652.0</td>\n",
       "      <td>4.5</td>\n",
       "      <td>NaN</td>\n",
       "      <td>4.0</td>\n",
       "      <td>[['Good by swedish standards', 'A hidden jewel...</td>\n",
       "      <td>/Restaurant_Review-g189852-d947615-Reviews-Sus...</td>\n",
       "      <td>d947615</td>\n",
       "    </tr>\n",
       "    <tr>\n",
       "      <th>39998</th>\n",
       "      <td>id_640</td>\n",
       "      <td>Warsaw</td>\n",
       "      <td>['Polish', 'European', 'Eastern European', 'Ce...</td>\n",
       "      <td>641.0</td>\n",
       "      <td>4.0</td>\n",
       "      <td>$$ - $$$</td>\n",
       "      <td>70.0</td>\n",
       "      <td>[['Underground restaurant', 'Oldest Restaurant...</td>\n",
       "      <td>/Restaurant_Review-g274856-d1100838-Reviews-Ho...</td>\n",
       "      <td>d1100838</td>\n",
       "    </tr>\n",
       "    <tr>\n",
       "      <th>39999</th>\n",
       "      <td>id_4824</td>\n",
       "      <td>Milan</td>\n",
       "      <td>['Spanish']</td>\n",
       "      <td>4827.0</td>\n",
       "      <td>3.0</td>\n",
       "      <td>$$ - $$$</td>\n",
       "      <td>260.0</td>\n",
       "      <td>[['Average', 'Nice an informal'], ['01/31/2016...</td>\n",
       "      <td>/Restaurant_Review-g187849-d1109020-Reviews-Ta...</td>\n",
       "      <td>d1109020</td>\n",
       "    </tr>\n",
       "  </tbody>\n",
       "</table>\n",
       "<p>40000 rows × 10 columns</p>\n",
       "</div>"
      ],
      "text/plain": [
       "      Restaurant_id       City  \\\n",
       "0           id_5569      Paris   \n",
       "1           id_1535  Stockholm   \n",
       "2            id_352     London   \n",
       "3           id_3456     Berlin   \n",
       "4            id_615     Munich   \n",
       "...             ...        ...   \n",
       "39995        id_499      Milan   \n",
       "39996       id_6340      Paris   \n",
       "39997       id_1649  Stockholm   \n",
       "39998        id_640     Warsaw   \n",
       "39999       id_4824      Milan   \n",
       "\n",
       "                                           Cuisine Style  Ranking  Rating  \\\n",
       "0                ['European', 'French', 'International']   5570.0     3.5   \n",
       "1                                                    NaN   1537.0     4.0   \n",
       "2      ['Japanese', 'Sushi', 'Asian', 'Grill', 'Veget...    353.0     4.5   \n",
       "3                                                    NaN   3458.0     5.0   \n",
       "4      ['German', 'Central European', 'Vegetarian Fri...    621.0     4.0   \n",
       "...                                                  ...      ...     ...   \n",
       "39995  ['Italian', 'Vegetarian Friendly', 'Vegan Opti...    500.0     4.5   \n",
       "39996  ['French', 'American', 'Bar', 'European', 'Veg...   6341.0     3.5   \n",
       "39997                              ['Japanese', 'Sushi']   1652.0     4.5   \n",
       "39998  ['Polish', 'European', 'Eastern European', 'Ce...    641.0     4.0   \n",
       "39999                                        ['Spanish']   4827.0     3.0   \n",
       "\n",
       "      Price Range  Number of Reviews  \\\n",
       "0        $$ - $$$              194.0   \n",
       "1             NaN               10.0   \n",
       "2            $$$$              688.0   \n",
       "3             NaN                3.0   \n",
       "4        $$ - $$$               84.0   \n",
       "...           ...                ...   \n",
       "39995    $$ - $$$               79.0   \n",
       "39996    $$ - $$$              542.0   \n",
       "39997         NaN                4.0   \n",
       "39998    $$ - $$$               70.0   \n",
       "39999    $$ - $$$              260.0   \n",
       "\n",
       "                                                 Reviews  \\\n",
       "0      [['Good food at your doorstep', 'A good hotel ...   \n",
       "1      [['Unique cuisine', 'Delicious Nepalese food']...   \n",
       "2      [['Catch up with friends', 'Not exceptional'],...   \n",
       "3                                               [[], []]   \n",
       "4      [['Best place to try a Bavarian food', 'Nice b...   \n",
       "...                                                  ...   \n",
       "39995  [['The real Italian experience!', 'Wonderful f...   \n",
       "39996  [['Parisian atmosphere', 'Bit pricey but inter...   \n",
       "39997  [['Good by swedish standards', 'A hidden jewel...   \n",
       "39998  [['Underground restaurant', 'Oldest Restaurant...   \n",
       "39999  [['Average', 'Nice an informal'], ['01/31/2016...   \n",
       "\n",
       "                                                  URL_TA     ID_TA  \n",
       "0      /Restaurant_Review-g187147-d1912643-Reviews-R_...  d1912643  \n",
       "1      /Restaurant_Review-g189852-d7992032-Reviews-Bu...  d7992032  \n",
       "2      /Restaurant_Review-g186338-d8632781-Reviews-RO...  d8632781  \n",
       "3      /Restaurant_Review-g187323-d1358776-Reviews-Es...  d1358776  \n",
       "4      /Restaurant_Review-g187309-d6864963-Reviews-Au...  d6864963  \n",
       "...                                                  ...       ...  \n",
       "39995  /Restaurant_Review-g187849-d2104414-Reviews-Ro...  d2104414  \n",
       "39996  /Restaurant_Review-g187147-d1800036-Reviews-La...  d1800036  \n",
       "39997  /Restaurant_Review-g189852-d947615-Reviews-Sus...   d947615  \n",
       "39998  /Restaurant_Review-g274856-d1100838-Reviews-Ho...  d1100838  \n",
       "39999  /Restaurant_Review-g187849-d1109020-Reviews-Ta...  d1109020  \n",
       "\n",
       "[40000 rows x 10 columns]"
      ]
     },
     "metadata": {},
     "output_type": "display_data"
    }
   ],
   "source": [
    "display(df)"
   ]
  },
  {
   "cell_type": "code",
   "execution_count": 4,
   "metadata": {
    "scrolled": true
   },
   "outputs": [
    {
     "name": "stdout",
     "output_type": "stream",
     "text": [
      "<class 'pandas.core.frame.DataFrame'>\n",
      "RangeIndex: 40000 entries, 0 to 39999\n",
      "Data columns (total 10 columns):\n",
      " #   Column             Non-Null Count  Dtype  \n",
      "---  ------             --------------  -----  \n",
      " 0   Restaurant_id      40000 non-null  object \n",
      " 1   City               40000 non-null  object \n",
      " 2   Cuisine Style      30717 non-null  object \n",
      " 3   Ranking            40000 non-null  float64\n",
      " 4   Rating             40000 non-null  float64\n",
      " 5   Price Range        26114 non-null  object \n",
      " 6   Number of Reviews  37457 non-null  float64\n",
      " 7   Reviews            40000 non-null  object \n",
      " 8   URL_TA             40000 non-null  object \n",
      " 9   ID_TA              40000 non-null  object \n",
      "dtypes: float64(3), object(7)\n",
      "memory usage: 3.1+ MB\n"
     ]
    }
   ],
   "source": [
    "df.info()"
   ]
  },
  {
   "cell_type": "markdown",
   "metadata": {},
   "source": [
    "# В данном датасете имеется:\n",
    "\n",
    "3 числовых признака\n",
    "\n",
    "7 строковых признака\n",
    "\n",
    "Датасет состоит из 40000 строк, в датасете 10 колонок."
   ]
  },
  {
   "cell_type": "code",
   "execution_count": 5,
   "metadata": {},
   "outputs": [
    {
     "data": {
      "text/plain": [
       "Restaurant_id            0\n",
       "City                     0\n",
       "Cuisine Style         9283\n",
       "Ranking                  0\n",
       "Rating                   0\n",
       "Price Range          13886\n",
       "Number of Reviews     2543\n",
       "Reviews                  0\n",
       "URL_TA                   0\n",
       "ID_TA                    0\n",
       "dtype: int64"
      ]
     },
     "execution_count": 5,
     "metadata": {},
     "output_type": "execute_result"
    }
   ],
   "source": [
    "df.isna().sum()"
   ]
  },
  {
   "cell_type": "code",
   "execution_count": 6,
   "metadata": {},
   "outputs": [],
   "source": [
    "def price_range(row):\n",
    "    '''Функция по замене символов на более понятные значения'''\n",
    "\n",
    "    if row == '$':\n",
    "        return 'low'\n",
    "    elif row == '$$ - $$$':\n",
    "        return 'middle'\n",
    "    else:\n",
    "        return 'high'"
   ]
  },
  {
   "cell_type": "code",
   "execution_count": 7,
   "metadata": {},
   "outputs": [],
   "source": [
    "def row_to_time(row):\n",
    "    '''Функция по приведению строки в единый формат даты'''\n",
    "\n",
    "    if int(row[0][:row[0].find('/')]) <= 12:\n",
    "        if len(row) == 1:\n",
    "            return list([datetime.strptime(row[0], '%m/%d/%Y'), datetime.strptime(row[0], '%m/%d/%Y')])\n",
    "        elif len(row) == 2:\n",
    "            return list([datetime.strptime(row[0], '%m/%d/%Y'), datetime.strptime(row[1], '%m/%d/%Y')])\n",
    "    else:\n",
    "        if len(row) == 1:\n",
    "            return list([datetime.strptime(row[0][row[0].find('/')+1: -5] + '/' + row[0][:row[0].find('/')] + '/' + row[0][-4:], '%m/%d/%Y'),\n",
    "                         datetime.strptime(row[0][row[0].find('/')+1: -5] + '/' + row[0][:row[0].find('/')] + '/' + row[0][-4:], '%m/%d/%Y')])\n",
    "        elif len(row) == 2:\n",
    "            return list([datetime.strptime(row[0][row[0].find('/')+1: -5] + '/' + row[0][:row[0].find('/')] + '/' + row[0][-4:], '%m/%d/%Y'),\n",
    "                         datetime.strptime(row[1][row[1].find('/')+1: -5] + '/' + row[1][:row[1].find('/')] + '/' + row[1][-4:], '%m/%d/%Y')])"
   ]
  },
  {
   "cell_type": "code",
   "execution_count": 8,
   "metadata": {},
   "outputs": [],
   "source": [
    "def add_dummies(df, column):\n",
    "    '''Функция по добавлению в датафрейм dummie-переменных'''\n",
    "\n",
    "    dummies = pd.get_dummies(df[column], prefix=column)\n",
    "    return df.join(dummies)"
   ]
  },
  {
   "cell_type": "code",
   "execution_count": 9,
   "metadata": {},
   "outputs": [
    {
     "data": {
      "text/html": [
       "<div>\n",
       "<style scoped>\n",
       "    .dataframe tbody tr th:only-of-type {\n",
       "        vertical-align: middle;\n",
       "    }\n",
       "\n",
       "    .dataframe tbody tr th {\n",
       "        vertical-align: top;\n",
       "    }\n",
       "\n",
       "    .dataframe thead th {\n",
       "        text-align: right;\n",
       "    }\n",
       "</style>\n",
       "<table border=\"1\" class=\"dataframe\">\n",
       "  <thead>\n",
       "    <tr style=\"text-align: right;\">\n",
       "      <th></th>\n",
       "      <th>Ranking</th>\n",
       "      <th>Rating</th>\n",
       "      <th>Number of Reviews</th>\n",
       "    </tr>\n",
       "  </thead>\n",
       "  <tbody>\n",
       "    <tr>\n",
       "      <th>Ranking</th>\n",
       "      <td>1.000000</td>\n",
       "      <td>-0.368371</td>\n",
       "      <td>-0.222670</td>\n",
       "    </tr>\n",
       "    <tr>\n",
       "      <th>Rating</th>\n",
       "      <td>-0.368371</td>\n",
       "      <td>1.000000</td>\n",
       "      <td>0.030964</td>\n",
       "    </tr>\n",
       "    <tr>\n",
       "      <th>Number of Reviews</th>\n",
       "      <td>-0.222670</td>\n",
       "      <td>0.030964</td>\n",
       "      <td>1.000000</td>\n",
       "    </tr>\n",
       "  </tbody>\n",
       "</table>\n",
       "</div>"
      ],
      "text/plain": [
       "                    Ranking    Rating  Number of Reviews\n",
       "Ranking            1.000000 -0.368371          -0.222670\n",
       "Rating            -0.368371  1.000000           0.030964\n",
       "Number of Reviews -0.222670  0.030964           1.000000"
      ]
     },
     "execution_count": 9,
     "metadata": {},
     "output_type": "execute_result"
    }
   ],
   "source": [
    "df.drop(['Restaurant_id','City','Cuisine Style','Price Range','Reviews','URL_TA','ID_TA'], axis = 1).corr()"
   ]
  },
  {
   "cell_type": "markdown",
   "metadata": {},
   "source": [
    "Исходя из таблицы корреляции:\n",
    "сильнее всего коррелирует целевой признак с признаком \"Ranking\", так как чем меньше место (чем ближе к 1), тем выше рейтинг."
   ]
  },
  {
   "cell_type": "code",
   "execution_count": 10,
   "metadata": {},
   "outputs": [],
   "source": [
    "df['Price Range'] = df['Price Range'].dropna().apply(lambda x: price_range(x))\n",
    "df['Price Range'] = df['Price Range'].fillna('middle')"
   ]
  },
  {
   "cell_type": "markdown",
   "metadata": {},
   "source": [
    "Замена символов на более понятные значения благодаря функции price_range(), и заполнение None значений на 'middle'"
   ]
  },
  {
   "cell_type": "code",
   "execution_count": 11,
   "metadata": {},
   "outputs": [],
   "source": [
    "df['Cuisine Style'] = df['Cuisine Style'].dropna().apply(lambda x: x[1:-1].replace(\"'\", '').replace(' ', '').split(','))\n",
    "\n",
    "count = Counter()\n",
    "for x in df['Cuisine Style'].dropna():\n",
    "    for i in x:\n",
    "        count[i] += 1\n",
    "\n",
    "cousine_list = []\n",
    "count = count.most_common(5)\n",
    "for i in count:\n",
    "    cousine_list.append(i[0])\n",
    "\n",
    "df['Cuisine Style'] = df['Cuisine Style'].fillna(0).apply(lambda x: cousine_list if x == 0 else x)"
   ]
  },
  {
   "cell_type": "markdown",
   "metadata": {},
   "source": [
    "Замена None значений на 5 видов самых популярных кухонь."
   ]
  },
  {
   "cell_type": "code",
   "execution_count": 12,
   "metadata": {
    "scrolled": true
   },
   "outputs": [],
   "source": [
    "pattern = re.compile('\\d+/\\d+/\\d+')\n",
    "df['Reviews'] = df['Reviews'].apply(lambda x: pattern.findall(x))\n",
    "df['Reviews'] = df['Reviews'].apply(lambda x: None if len(x) == 0 else x)\n",
    "df['Reviews'] = df['Reviews'].dropna().apply(lambda x: row_to_time(x))\n",
    "df['Date_Reviews'] = df['Reviews']\n",
    "df = df.drop(['Reviews'], axis=1)"
   ]
  },
  {
   "cell_type": "markdown",
   "metadata": {},
   "source": [
    "Создание столбца с датами отзывов."
   ]
  },
  {
   "cell_type": "code",
   "execution_count": 13,
   "metadata": {},
   "outputs": [],
   "source": [
    "df['Number of Reviews'] = df['Number of Reviews'].fillna(round(df['Number of Reviews'].mean()))"
   ]
  },
  {
   "cell_type": "markdown",
   "metadata": {},
   "source": [
    "Заполнение None значений средним в столбце."
   ]
  },
  {
   "cell_type": "code",
   "execution_count": 14,
   "metadata": {},
   "outputs": [
    {
     "data": {
      "text/plain": [
       "Restaurant_id           0\n",
       "City                    0\n",
       "Cuisine Style           0\n",
       "Ranking                 0\n",
       "Rating                  0\n",
       "Price Range             0\n",
       "Number of Reviews       0\n",
       "URL_TA                  0\n",
       "ID_TA                   0\n",
       "Date_Reviews         6473\n",
       "dtype: int64"
      ]
     },
     "execution_count": 14,
     "metadata": {},
     "output_type": "execute_result"
    }
   ],
   "source": [
    "df.isna().sum()"
   ]
  },
  {
   "cell_type": "code",
   "execution_count": 15,
   "metadata": {},
   "outputs": [
    {
     "data": {
      "text/html": [
       "<div>\n",
       "<style scoped>\n",
       "    .dataframe tbody tr th:only-of-type {\n",
       "        vertical-align: middle;\n",
       "    }\n",
       "\n",
       "    .dataframe tbody tr th {\n",
       "        vertical-align: top;\n",
       "    }\n",
       "\n",
       "    .dataframe thead th {\n",
       "        text-align: right;\n",
       "    }\n",
       "</style>\n",
       "<table border=\"1\" class=\"dataframe\">\n",
       "  <thead>\n",
       "    <tr style=\"text-align: right;\">\n",
       "      <th></th>\n",
       "      <th>Restaurant_id</th>\n",
       "      <th>City</th>\n",
       "      <th>Cuisine Style</th>\n",
       "      <th>Ranking</th>\n",
       "      <th>Rating</th>\n",
       "      <th>Price Range</th>\n",
       "      <th>Number of Reviews</th>\n",
       "      <th>URL_TA</th>\n",
       "      <th>ID_TA</th>\n",
       "      <th>Date_Reviews</th>\n",
       "    </tr>\n",
       "  </thead>\n",
       "  <tbody>\n",
       "    <tr>\n",
       "      <th>0</th>\n",
       "      <td>id_5569</td>\n",
       "      <td>Paris</td>\n",
       "      <td>[European, French, International]</td>\n",
       "      <td>5570.0</td>\n",
       "      <td>3.5</td>\n",
       "      <td>middle</td>\n",
       "      <td>194.0</td>\n",
       "      <td>/Restaurant_Review-g187147-d1912643-Reviews-R_...</td>\n",
       "      <td>d1912643</td>\n",
       "      <td>[2017-12-31 00:00:00, 2017-11-20 00:00:00]</td>\n",
       "    </tr>\n",
       "    <tr>\n",
       "      <th>1</th>\n",
       "      <td>id_1535</td>\n",
       "      <td>Stockholm</td>\n",
       "      <td>[VegetarianFriendly, European, Mediterranean, ...</td>\n",
       "      <td>1537.0</td>\n",
       "      <td>4.0</td>\n",
       "      <td>middle</td>\n",
       "      <td>10.0</td>\n",
       "      <td>/Restaurant_Review-g189852-d7992032-Reviews-Bu...</td>\n",
       "      <td>d7992032</td>\n",
       "      <td>[2017-07-06 00:00:00, 2016-06-19 00:00:00]</td>\n",
       "    </tr>\n",
       "    <tr>\n",
       "      <th>2</th>\n",
       "      <td>id_352</td>\n",
       "      <td>London</td>\n",
       "      <td>[Japanese, Sushi, Asian, Grill, VegetarianFrie...</td>\n",
       "      <td>353.0</td>\n",
       "      <td>4.5</td>\n",
       "      <td>high</td>\n",
       "      <td>688.0</td>\n",
       "      <td>/Restaurant_Review-g186338-d8632781-Reviews-RO...</td>\n",
       "      <td>d8632781</td>\n",
       "      <td>[2018-01-08 00:00:00, 2018-01-06 00:00:00]</td>\n",
       "    </tr>\n",
       "    <tr>\n",
       "      <th>3</th>\n",
       "      <td>id_3456</td>\n",
       "      <td>Berlin</td>\n",
       "      <td>[VegetarianFriendly, European, Mediterranean, ...</td>\n",
       "      <td>3458.0</td>\n",
       "      <td>5.0</td>\n",
       "      <td>middle</td>\n",
       "      <td>3.0</td>\n",
       "      <td>/Restaurant_Review-g187323-d1358776-Reviews-Es...</td>\n",
       "      <td>d1358776</td>\n",
       "      <td>NaN</td>\n",
       "    </tr>\n",
       "    <tr>\n",
       "      <th>4</th>\n",
       "      <td>id_615</td>\n",
       "      <td>Munich</td>\n",
       "      <td>[German, CentralEuropean, VegetarianFriendly]</td>\n",
       "      <td>621.0</td>\n",
       "      <td>4.0</td>\n",
       "      <td>middle</td>\n",
       "      <td>84.0</td>\n",
       "      <td>/Restaurant_Review-g187309-d6864963-Reviews-Au...</td>\n",
       "      <td>d6864963</td>\n",
       "      <td>[2017-11-18 00:00:00, 2017-02-19 00:00:00]</td>\n",
       "    </tr>\n",
       "  </tbody>\n",
       "</table>\n",
       "</div>"
      ],
      "text/plain": [
       "  Restaurant_id       City                                      Cuisine Style  \\\n",
       "0       id_5569      Paris                  [European, French, International]   \n",
       "1       id_1535  Stockholm  [VegetarianFriendly, European, Mediterranean, ...   \n",
       "2        id_352     London  [Japanese, Sushi, Asian, Grill, VegetarianFrie...   \n",
       "3       id_3456     Berlin  [VegetarianFriendly, European, Mediterranean, ...   \n",
       "4        id_615     Munich      [German, CentralEuropean, VegetarianFriendly]   \n",
       "\n",
       "   Ranking  Rating Price Range  Number of Reviews  \\\n",
       "0   5570.0     3.5      middle              194.0   \n",
       "1   1537.0     4.0      middle               10.0   \n",
       "2    353.0     4.5        high              688.0   \n",
       "3   3458.0     5.0      middle                3.0   \n",
       "4    621.0     4.0      middle               84.0   \n",
       "\n",
       "                                              URL_TA     ID_TA  \\\n",
       "0  /Restaurant_Review-g187147-d1912643-Reviews-R_...  d1912643   \n",
       "1  /Restaurant_Review-g189852-d7992032-Reviews-Bu...  d7992032   \n",
       "2  /Restaurant_Review-g186338-d8632781-Reviews-RO...  d8632781   \n",
       "3  /Restaurant_Review-g187323-d1358776-Reviews-Es...  d1358776   \n",
       "4  /Restaurant_Review-g187309-d6864963-Reviews-Au...  d6864963   \n",
       "\n",
       "                                 Date_Reviews  \n",
       "0  [2017-12-31 00:00:00, 2017-11-20 00:00:00]  \n",
       "1  [2017-07-06 00:00:00, 2016-06-19 00:00:00]  \n",
       "2  [2018-01-08 00:00:00, 2018-01-06 00:00:00]  \n",
       "3                                         NaN  \n",
       "4  [2017-11-18 00:00:00, 2017-02-19 00:00:00]  "
      ]
     },
     "execution_count": 15,
     "metadata": {},
     "output_type": "execute_result"
    }
   ],
   "source": [
    "df.head(5)"
   ]
  },
  {
   "cell_type": "code",
   "execution_count": 16,
   "metadata": {},
   "outputs": [],
   "source": [
    "df = add_dummies(df, 'City')\n",
    "df = add_dummies(df, 'Price Range')\n",
    "df['Cuisine Count'] = df['Cuisine Style'].apply(lambda x: len(x))\n",
    "\n",
    "df = df.explode('Cuisine Style')\n",
    "df = add_dummies(df, 'Cuisine Style')\n",
    "\n",
    "df = df.drop(['Restaurant_id', 'City', 'Cuisine Style',\n",
    "              'Price Range', 'Date_Reviews', 'URL_TA', 'ID_TA'], axis=1)"
   ]
  },
  {
   "cell_type": "markdown",
   "metadata": {},
   "source": [
    "# Разбиваем датафрейм на части, необходимые для обучения и тестирования модели"
   ]
  },
  {
   "cell_type": "code",
   "execution_count": 17,
   "metadata": {},
   "outputs": [],
   "source": [
    "# Х - данные с информацией о ресторанах, у - целевая переменная (рейтинги ресторанов)\n",
    "X = df.drop(['Rating'], axis = 1)\n",
    "y = df['Rating']"
   ]
  },
  {
   "cell_type": "code",
   "execution_count": 18,
   "metadata": {},
   "outputs": [],
   "source": [
    "# Загружаем специальный инструмент для разбивки:\n",
    "from sklearn.model_selection import train_test_split"
   ]
  },
  {
   "cell_type": "code",
   "execution_count": 19,
   "metadata": {},
   "outputs": [],
   "source": [
    "# Наборы данных с меткой \"train\" будут использоваться для обучения модели, \"test\" - для тестирования.\n",
    "# Для тестирования мы будем использовать 25% от исходного датасета.\n",
    "X_train, X_test, y_train, y_test = train_test_split(X, y, test_size=0.25)"
   ]
  },
  {
   "cell_type": "markdown",
   "metadata": {},
   "source": [
    "# Создаём, обучаем и тестируем модель"
   ]
  },
  {
   "cell_type": "code",
   "execution_count": 20,
   "metadata": {},
   "outputs": [],
   "source": [
    "# Импортируем необходимые библиотеки:\n",
    "from sklearn.ensemble import RandomForestRegressor # инструмент для создания и обучения модели\n",
    "from sklearn import metrics # инструменты для оценки точности модели"
   ]
  },
  {
   "cell_type": "code",
   "execution_count": 21,
   "metadata": {},
   "outputs": [],
   "source": [
    "# Создаём модель\n",
    "regr = RandomForestRegressor(n_estimators=100)\n",
    "\n",
    "# Обучаем модель на тестовом наборе данных\n",
    "regr.fit(X_train, y_train)\n",
    "\n",
    "# Используем обученную модель для предсказания рейтинга ресторанов в тестовой выборке.\n",
    "# Предсказанные значения записываем в переменную y_pred\n",
    "y_pred = regr.predict(X_test)"
   ]
  },
  {
   "cell_type": "code",
   "execution_count": 22,
   "metadata": {},
   "outputs": [
    {
     "name": "stdout",
     "output_type": "stream",
     "text": [
      "MAE: 0.006976341805667545\n"
     ]
    }
   ],
   "source": [
    "# Сравниваем предсказанные значения (y_pred) с реальными (y_test), и смотрим насколько они в среднем отличаются\n",
    "# Метрика называется Mean Absolute Error (MAE) и показывает среднее отклонение предсказанных значений от фактических.\n",
    "print('MAE:', metrics.mean_absolute_error(y_test, y_pred))"
   ]
  }
 ],
 "metadata": {
  "kernelspec": {
   "display_name": "Python 3",
   "language": "python",
   "name": "python3"
  },
  "language_info": {
   "codemirror_mode": {
    "name": "ipython",
    "version": 3
   },
   "file_extension": ".py",
   "mimetype": "text/x-python",
   "name": "python",
   "nbconvert_exporter": "python",
   "pygments_lexer": "ipython3",
   "version": "3.7.7"
  }
 },
 "nbformat": 4,
 "nbformat_minor": 2
}
